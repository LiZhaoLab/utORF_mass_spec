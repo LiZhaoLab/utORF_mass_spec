{
 "cells": [
  {
   "cell_type": "code",
   "execution_count": 1,
   "metadata": {},
   "outputs": [],
   "source": [
    "import pandas as pd\n",
    "import matplotlib.pyplot as plt\n",
    "import seaborn as sns\n",
    "import numpy as np"
   ]
  },
  {
   "cell_type": "code",
   "execution_count": 2,
   "metadata": {},
   "outputs": [],
   "source": [
    "plt.rcParams['font.family'] = 'Arial'\n",
    "plt.rcParams['font.size'] = 8\n",
    "plt.rcParams['pdf.fonttype'] = 42\n",
    "plt.rcParams['ps.fonttype'] = 42\n",
    "plt.rcParams['legend.fontsize'] = 8\n",
    "plt.rcParams['mathtext.fontset'] = 'custom'\n",
    "plt.rcParams['mathtext.it'] = 'Arial:italic'\n",
    "#plt.rcParams['mathtext.fallback'] = 'None'"
   ]
  },
  {
   "cell_type": "code",
   "execution_count": 3,
   "metadata": {},
   "outputs": [],
   "source": [
    "from Bio import Phylo\n",
    "from io import StringIO\n",
    "\n",
    "tree = '''(((((((((((((((((dm:0.054203,\n",
    "                (droSim:0.02131,\n",
    "                droSec:0.022797):0.024262):0.058501,\n",
    "               (droYak:0.088966,\n",
    "               droEre:0.077153):0.025438):0.181996,\n",
    "              (droBia:0.126739,\n",
    "              droSuz:0.093422):0.096476):0.012539,\n",
    "             (droAna:0.132676,\n",
    "             droBip:0.134892):0.531515):0.002641,\n",
    "            droEug:0.318569):0.036977,\n",
    "           droEle:0.207426):0.00256,\n",
    "          droKik:0.485329):0.00244,\n",
    "         droTak:0.226746):0.014351,\n",
    "        droRho:0.195624):0.049591,\n",
    "       droFic:0.257704):0.290027,\n",
    "      ((droPse:0.013853,\n",
    "       droPer:0.014979):0.009699,\n",
    "      droMir:0.017285):0.398344):0.150107,\n",
    "     droWil:0.550935):0.041827,\n",
    "    (((droVir:0.242786,\n",
    "      droMoj:0.321598):0.090819,\n",
    "     droAlb:0.436249):0.014378,\n",
    "    droGri:0.318782):0.162991):0.222902,\n",
    "   musDom:0.772795):0.268197,\n",
    "  anoGam:1.14709):0.387299,\n",
    " apiMel:0.865834):0.588712,\n",
    "triCas:0.588712);'''\n",
    "\n",
    "tree = Phylo.read(StringIO(tree), 'newick')\n",
    "\n",
    "def applyable_monophyletic(series, func, tree, thres):\n",
    "    #thres = .5\n",
    "\n",
    "    names = (series[series > thres]).index.values\n",
    "    \n",
    "    return(func(tree,names))\n",
    "\n",
    "def oldest_extant_relative(tree, species):\n",
    "    reforder = ['dm', 'droSim', 'droSec', 'droYak',\n",
    "       'droEre', 'droBia', 'droSuz',\n",
    "       'droAna', 'droBip', 'droEug',\n",
    "       'droEle', 'droKik', 'droTak',\n",
    "       'droRho', 'droFic', 'droPse',\n",
    "       'droPer', 'droMir', 'droWil',\n",
    "       'droVir', 'droMoj', 'droAlb',\n",
    "       'droGri', \n",
    "       'musDom', 'anoGam', 'apiMel', 'triCas']\n",
    "    \n",
    "    present = [sp for sp in reforder if sp in species]\n",
    "    #return present[0]\n",
    "    #print(present)\n",
    "    \n",
    "    # needed in case species is empty\n",
    "    if len(present) > 0:\n",
    "        return present[-1]\n",
    "    else: return None\n",
    "    \n",
    "def check_phased_nonconserved(series, thres, output='count'):\n",
    "    reforder = ['dm', 'droSim', 'droSec', 'droYak',\n",
    "       'droEre', 'droBia', 'droSuz',\n",
    "       'droAna', 'droBip', 'droEug',\n",
    "       'droEle', 'droKik', 'droTak',\n",
    "       'droRho', 'droFic', 'droPse',\n",
    "       'droPer', 'droMir', 'droWil',\n",
    "       'droVir', 'droMoj', 'droAlb',\n",
    "       'droGri', \n",
    "       'musDom', 'anoGam', 'apiMel', 'triCas']\n",
    "        \n",
    "    names = (series[series > thres]).index.values\n",
    "    oldest = oldest_extant_relative(None, names)\n",
    "    \n",
    "    if oldest in reforder:\n",
    "        idx_old = reforder.index(oldest)\n",
    "    else:\n",
    "        return -1\n",
    "    \n",
    "    outgroups = reforder[idx_old+1:]\n",
    "    noncons = series[(series < thres) & (series > 0)].index.values\n",
    "    present = [sp for sp in outgroups if sp in noncons]\n",
    "    \n",
    "    if output is 'count':\n",
    "        return len(present)#, len(noncons)\n",
    "    elif output is 'list':\n",
    "        return present\n",
    "    else:\n",
    "        raise ValueError(output)\n",
    "    \n",
    "    #return oldest\n",
    "\n",
    "#(single_blosum62_score_table\n",
    "#                 .fillna(0)\n",
    "#                 .apply(applyable_monophyletic, axis='columns', \n",
    "#                        args=(oldest_extant_relative, tree, 2.5)))\n",
    "single_blosum62_score_table = pd.read_pickle('../addlsourcedata/single_blosum62.pandas.pic.gz')"
   ]
  },
  {
   "cell_type": "code",
   "execution_count": 4,
   "metadata": {},
   "outputs": [],
   "source": [
    "furthest = pd.read_pickle('../addlsourcedata/furthest.pandas.pic.gz')\n",
    "\n",
    "# squash surplus nodes\n",
    "furthest = (furthest\n",
    "            .replace('droSim', 'droSec')\n",
    "            .replace('droBia', 'droSuz')\n",
    "            .replace('droYak', 'droEre')\n",
    "            .replace('droAna', 'droBip')\n",
    "            .replace('droEug', 'droRho')\n",
    "            .replace('droEle', 'droRho')\n",
    "            .replace('droKik', 'droRho')\n",
    "            .replace('droTak', 'droRho')\n",
    "            .replace('droPse', 'droMir')\n",
    "            .replace('droPer', 'droMir')\n",
    "            .replace('droVir', 'droGri')\n",
    "            .replace('droMoj', 'droGri')\n",
    "            .replace('droAlb', 'droGri'))\n",
    "\n",
    "speciesorder = ['dm', 'droSim', 'droSec', 'droYak',\n",
    "       'droEre', 'droBia', 'droSuz',\n",
    "       'droAna', 'droBip', 'droEug',\n",
    "       'droEle', 'droKik', 'droTak',\n",
    "       'droRho', 'droFic', 'droPse',\n",
    "       'droPer', 'droMir', 'droWil',\n",
    "       'droVir', 'droMoj', 'droAlb',\n",
    "       'droGri', \n",
    "       'musDom', 'anoGam', 'apiMel', 'triCas']\n",
    "\n",
    "minspeciesorder = ['dm', 'droSec',\n",
    "       'droEre', 'droSuz',\n",
    "       'droBip', \n",
    "       'droRho', 'droFic',\n",
    "       'droMir', 'droWil',\n",
    "       'droGri', \n",
    "       'musDom', 'anoGam', 'apiMel', 'triCas']"
   ]
  },
  {
   "cell_type": "code",
   "execution_count": 5,
   "metadata": {},
   "outputs": [
    {
     "data": {
      "text/plain": [
       "count    1020.000000\n",
       "mean        4.075490\n",
       "std         3.844779\n",
       "min        -1.000000\n",
       "25%         1.000000\n",
       "50%         3.000000\n",
       "75%         6.000000\n",
       "max        24.000000\n",
       "dtype: float64"
      ]
     },
     "execution_count": 5,
     "metadata": {},
     "output_type": "execute_result"
    }
   ],
   "source": [
    "n_outgroups = single_blosum62_score_table.fillna(-1).apply(check_phased_nonconserved, args=(2.5,) , axis=1)\n",
    "n_outgroups.describe()"
   ]
  },
  {
   "cell_type": "code",
   "execution_count": 6,
   "metadata": {},
   "outputs": [
    {
     "data": {
      "text/plain": [
       "      uniqueid     validation  EBZid   midid\n",
       "0     10.1_mid1    ok          10.1    mid1                      [droFic, droAlb, droGri, triCas]\n",
       "1     100.1_mid1   ok          100.1   mid1                              [droVir, droMoj, triCas]\n",
       "2     1001.1_mid1  ok          1001.1  mid1     [droWil, droVir, droMoj, droGri, musDom, anoGa...\n",
       "3     1004.1_mid1  ok          1004.1  mid1     [droAna, droBip, droEug, droEle, droKik, droTa...\n",
       "4     101.1_mid1   ok          101.1   mid1      [droPse, droPer, droMir, droVir, droMoj, musDom]\n",
       "5     1011.1_mid1  ok          1011.1  mid1     [droRho, droFic, droPse, droPer, droWil, droVi...\n",
       "6     1013.1_mid1  ok          1013.1  mid1                                      [droMir, droMoj]\n",
       "7     1015.1_mid1  ok          1015.1  mid1     [droPse, droPer, droMir, droWil, droVir, droMo...\n",
       "8     1016.1_mid1  ok          1016.1  mid1                                              [triCas]\n",
       "9     1020.1_mid1  ok          1020.1  mid1                                              [droVir]\n",
       "10    1022.1_mid1  ok          1022.1  mid1                                              [droFic]\n",
       "12    1030.1_mid1  ok          1030.1  mid1      [droPse, droPer, droMir, droVir, droMoj, droAlb]\n",
       "13    1031.1_mid1  ok          1031.1  mid1                      [droPse, droPer, droVir, droGri]\n",
       "14    1033.1_mid1  ok          1033.1  mid1                      [droVir, droMoj, droAlb, droGri]\n",
       "15    1041.1_mid1  ok          1041.1  mid1     [droSec, droEre, droBia, droSuz, droAna, droBi...\n",
       "16    1042.1_mid1  ok          1042.1  mid1     [droSec, droYak, droEre, droBia, droSuz, droAn...\n",
       "17    1045.1_mid1  ok          1045.1  mid1     [droBia, droSuz, droAna, droBip, droEug, droEl...\n",
       "18    1086.1_mid1  ok          1086.1  mid1                      [droWil, droMoj, droAlb, droGri]\n",
       "19    1095.1_mid1  ok          1095.1  mid1                      [droWil, droVir, droMoj, droGri]\n",
       "20    1096.1_mid1  ok          1096.1  mid1     [droFic, droPse, droPer, droMir, droWil, droMo...\n",
       "21    1097.1_mid1  ok          1097.1  mid1                      [droRho, droFic, droMir, droWil]\n",
       "22    1105.1_mid1  ok          1105.1  mid1     [droYak, droEre, droAna, droBip, droFic, droPe...\n",
       "23    1116.1_mid1  ok          1116.1  mid1                                              [triCas]\n",
       "28    1129.1_mid1  ok          1129.1  mid1                      [musDom, anoGam, apiMel, triCas]\n",
       "29    1133.1_mid1  ok          1133.1  mid1     [droFic, droPse, droPer, droMir, droVir, droMo...\n",
       "30    114.1_mid1   ok          114.1   mid1     [droRho, droFic, droPse, droPer, droMir, droWi...\n",
       "31    1141.1_mid1  ok          1141.1  mid1      [droPse, droPer, droMir, droWil, droVir, droGri]\n",
       "32    1144.1_mid1  ok          1144.1  mid1              [droVir, droMoj, droAlb, droGri, triCas]\n",
       "33    1146.1_mid1  ok          1146.1  mid1     [droTak, droRho, droFic, droPse, droPer, droMi...\n",
       "34    1147.1_mid1  ok          1147.1  mid1                      [droPer, droMir, droMoj, droAlb]\n",
       "                                                                      ...                        \n",
       "1257  885.1_mid1   ok          885.1   mid1     [droRho, droFic, droMir, droWil, droMoj, droAl...\n",
       "1258  887.1_mid1   ok          887.1   mid1     [droBia, droSuz, droBip, droEug, droEle, droKi...\n",
       "1259  891.1_mid1   ok          891.1   mid1              [droMir, droVir, droMoj, droGri, anoGam]\n",
       "1260  895.1_mid1   ok          895.1   mid1                                      [apiMel, triCas]\n",
       "1261  9.1_mid1     ok          9.1     mid1      [droFic, droPse, droPer, droMir, droMoj, droGri]\n",
       "1262  90.1_mid1    ok          90.1    mid1                              [anoGam, apiMel, triCas]\n",
       "1263  900.1_mid1   ok          900.1   mid1                                              [droGri]\n",
       "1264  903.1_mid1   ok          903.1   mid1              [droPse, droPer, droMir, droWil, droGri]\n",
       "1265  905.1_mid1   ok          905.1   mid1              [droMir, musDom, anoGam, apiMel, triCas]\n",
       "1267  912.1_mid1   ok          912.1   mid1                      [droVir, droMoj, droAlb, droGri]\n",
       "1268  915.1_mid1   ok          915.1   mid1              [droFic, droPse, droPer, droMir, droGri]\n",
       "1269  916.1_mid1   ok          916.1   mid1              [droMoj, droAlb, droGri, musDom, anoGam]\n",
       "1270  916.2_mid1   ok          916.2   mid1                                              [anoGam]\n",
       "1271  917.1_mid2   ok          917.1   mid2                      [musDom, anoGam, apiMel, triCas]\n",
       "1272  917.2_mid1   ok          917.2   mid1                                      [apiMel, triCas]\n",
       "1276  944.1_mid1   ok          944.1   mid1                                      [droRho, droFic]\n",
       "1277  947.1_mid1   ok          947.1   mid1              [droVir, droMoj, droAlb, musDom, anoGam]\n",
       "1278  948.1_mid1   ok          948.1   mid1     [droFic, droPse, droPer, droWil, droVir, droMo...\n",
       "1279  95.1_mid1    ok          95.1    mid1                      [droPse, droPer, droMir, droGri]\n",
       "1280  950.1_mid1   ok          950.1   mid1                                      [musDom, anoGam]\n",
       "1281  954.2_mid1   ok          954.2   mid1                      [musDom, anoGam, apiMel, triCas]\n",
       "1283  96.1_mid1    ok          96.1    mid1                              [droMir, droVir, droGri]\n",
       "1284  961.1_mid1   ok          961.1   mid1                                              [droGri]\n",
       "1285  965.1_mid1   ok          965.1   mid1                              [anoGam, apiMel, triCas]\n",
       "1286  972.1_mid1   ok          972.1   mid1                              [musDom, anoGam, triCas]\n",
       "1287  978.1_mid1   ok          978.1   mid1      [droRho, droFic, droPse, droPer, droMir, droGri]\n",
       "1288  986.1_mid1   ok          986.1   mid1                      [droWil, droVir, droMoj, droAlb]\n",
       "1290  99.1_mid1    ok          99.1    mid1                      [droWil, droMoj, droAlb, anoGam]\n",
       "1291  993.1_mid1   ok          993.1   mid1                                      [apiMel, triCas]\n",
       "1297  998.1_mid1   ok          998.1   mid1                              [droPse, droPer, droMir]\n",
       "Length: 839, dtype: object"
      ]
     },
     "execution_count": 6,
     "metadata": {},
     "output_type": "execute_result"
    }
   ],
   "source": [
    "outgroups = single_blosum62_score_table.fillna(-1).apply(check_phased_nonconserved, args=(2.5,'list') , axis=1)\n",
    "outgroups = outgroups[n_outgroups > 0]\n",
    "outgroups"
   ]
  },
  {
   "cell_type": "code",
   "execution_count": 7,
   "metadata": {},
   "outputs": [],
   "source": [
    "def replace(set_object, a, b):\n",
    "    '''suitable to monkey-patch the set object'''\n",
    "    \n",
    "    try:\n",
    "        set_object.remove(a)\n",
    "        set_object.add(b)\n",
    "    except KeyError:\n",
    "        pass\n",
    "    \n",
    "    return set_object\n",
    "\n",
    "class PatchedSet(set):\n",
    "    pass\n",
    "\n",
    "PatchedSet.replace = replace"
   ]
  },
  {
   "cell_type": "code",
   "execution_count": 8,
   "metadata": {},
   "outputs": [],
   "source": [
    "def count_nonmonophyletic_sig_outgroups(outgrps):\n",
    "    return list(PatchedSet(outgrps)\n",
    "            .replace('droSim', 'droSec')\n",
    " \n",
    "            .replace('droYak', 'droEre')\n",
    " \n",
    "            .replace('droBia', 'droSuz')\n",
    " \n",
    "            .replace('droAna', 'droBip')\n",
    " \n",
    "            #.replace('droEug', 'droRho')\n",
    "            #.replace('droEle', 'droRho')\n",
    "            #.replace('droKik', 'droRho')\n",
    "            #.replace('droTak', 'droRho')\n",
    " \n",
    "            .replace('droPse', 'droMir')\n",
    "            .replace('droPer', 'droMir')\n",
    " \n",
    "            .replace('droVir', 'droGri')\n",
    "            .replace('droMoj', 'droGri')\n",
    "            .replace('droAlb', 'droGri'))"
   ]
  },
  {
   "cell_type": "code",
   "execution_count": 9,
   "metadata": {},
   "outputs": [],
   "source": [
    "post_classes = pd.read_pickle('../addlsourcedata/LCA_posterior_classes_revised.pandas.pic.gz')\n",
    "post_data = pd.read_pickle('../addlsourcedata/LCA_posterior_data_revised.pandas.pic.gz')"
   ]
  },
  {
   "cell_type": "code",
   "execution_count": 10,
   "metadata": {},
   "outputs": [],
   "source": [
    "class_blosum = (pd.concat([single_blosum62_score_table.reset_index().set_index('EBZid'), post_classes], axis=1, sort=True)\n",
    "        .reset_index()\n",
    "        .rename({'index':'EBZid', 0:'LCA_class', 'level_0':None}, axis=1)\n",
    "        .set_index([None, 'uniqueid', 'validation', 'EBZid',  'midid'])\n",
    "        .dropna(subset=['LCA_class'])\n",
    "        .sort_values(by='LCA_class')\n",
    "        .fillna(0).set_index('LCA_class', append=True)\n",
    "        .pipe(lambda df: df[speciesorder]))"
   ]
  },
  {
   "cell_type": "code",
   "execution_count": 11,
   "metadata": {},
   "outputs": [],
   "source": [
    "n_outgroup_class = class_blosum.apply(check_phased_nonconserved, args=(2.5,) , axis=1)\n",
    "outgroups_class = class_blosum.apply(check_phased_nonconserved, args=(2.5,'list') , axis=1)"
   ]
  },
  {
   "cell_type": "code",
   "execution_count": 12,
   "metadata": {},
   "outputs": [],
   "source": [
    "monophyletic_denovo_class = (pd.DataFrame({'mon_outgrps':outgroups_class.apply(count_nonmonophyletic_sig_outgroups)})\n",
    "         .pipe(lambda df: df.assign(n_mon_outgrps = df.mon_outgrps.apply(len))))"
   ]
  },
  {
   "cell_type": "code",
   "execution_count": 13,
   "metadata": {},
   "outputs": [
    {
     "data": {
      "text/html": [
       "<div>\n",
       "<style scoped>\n",
       "    .dataframe tbody tr th:only-of-type {\n",
       "        vertical-align: middle;\n",
       "    }\n",
       "\n",
       "    .dataframe tbody tr th {\n",
       "        vertical-align: top;\n",
       "    }\n",
       "\n",
       "    .dataframe thead th {\n",
       "        text-align: right;\n",
       "    }\n",
       "</style>\n",
       "<table border=\"1\" class=\"dataframe\">\n",
       "  <thead>\n",
       "    <tr style=\"text-align: right;\">\n",
       "      <th></th>\n",
       "      <th></th>\n",
       "      <th></th>\n",
       "      <th></th>\n",
       "      <th></th>\n",
       "      <th></th>\n",
       "      <th>mon_outgrps</th>\n",
       "      <th>n_mon_outgrps</th>\n",
       "    </tr>\n",
       "    <tr>\n",
       "      <th></th>\n",
       "      <th>uniqueid</th>\n",
       "      <th>validation</th>\n",
       "      <th>EBZid</th>\n",
       "      <th>midid</th>\n",
       "      <th>LCA_class</th>\n",
       "      <th></th>\n",
       "      <th></th>\n",
       "    </tr>\n",
       "  </thead>\n",
       "  <tbody>\n",
       "    <tr>\n",
       "      <th>512</th>\n",
       "      <th>2102.1_mid1</th>\n",
       "      <th>ok</th>\n",
       "      <th>2102.1</th>\n",
       "      <th>mid1</th>\n",
       "      <th>alt-frame</th>\n",
       "      <td>[anoGam, triCas, apiMel]</td>\n",
       "      <td>3</td>\n",
       "    </tr>\n",
       "    <tr>\n",
       "      <th>1043</th>\n",
       "      <th>4672.1_mid1</th>\n",
       "      <th>ok</th>\n",
       "      <th>4672.1</th>\n",
       "      <th>mid1</th>\n",
       "      <th>alt-frame</th>\n",
       "      <td>[musDom, triCas]</td>\n",
       "      <td>2</td>\n",
       "    </tr>\n",
       "    <tr>\n",
       "      <th>575</th>\n",
       "      <th>2266.1_mid1</th>\n",
       "      <th>ok</th>\n",
       "      <th>2266.1</th>\n",
       "      <th>mid1</th>\n",
       "      <th>alt-frame</th>\n",
       "      <td>[anoGam, triCas, musDom, apiMel]</td>\n",
       "      <td>4</td>\n",
       "    </tr>\n",
       "    <tr>\n",
       "      <th>1201</th>\n",
       "      <th>746.2_mid1</th>\n",
       "      <th>ok</th>\n",
       "      <th>746.2</th>\n",
       "      <th>mid1</th>\n",
       "      <th>alt-frame</th>\n",
       "      <td>[anoGam, triCas, musDom, apiMel]</td>\n",
       "      <td>4</td>\n",
       "    </tr>\n",
       "    <tr>\n",
       "      <th>319</th>\n",
       "      <th>1667.1_mid1</th>\n",
       "      <th>ok</th>\n",
       "      <th>1667.1</th>\n",
       "      <th>mid1</th>\n",
       "      <th>alt-frame</th>\n",
       "      <td>[anoGam]</td>\n",
       "      <td>1</td>\n",
       "    </tr>\n",
       "  </tbody>\n",
       "</table>\n",
       "</div>"
      ],
      "text/plain": [
       "                                                                         mon_outgrps  \\\n",
       "     uniqueid    validation EBZid  midid LCA_class                                     \n",
       "512  2102.1_mid1 ok         2102.1 mid1  alt-frame          [anoGam, triCas, apiMel]   \n",
       "1043 4672.1_mid1 ok         4672.1 mid1  alt-frame                  [musDom, triCas]   \n",
       "575  2266.1_mid1 ok         2266.1 mid1  alt-frame  [anoGam, triCas, musDom, apiMel]   \n",
       "1201 746.2_mid1  ok         746.2  mid1  alt-frame  [anoGam, triCas, musDom, apiMel]   \n",
       "319  1667.1_mid1 ok         1667.1 mid1  alt-frame                          [anoGam]   \n",
       "\n",
       "                                                    n_mon_outgrps  \n",
       "     uniqueid    validation EBZid  midid LCA_class                 \n",
       "512  2102.1_mid1 ok         2102.1 mid1  alt-frame              3  \n",
       "1043 4672.1_mid1 ok         4672.1 mid1  alt-frame              2  \n",
       "575  2266.1_mid1 ok         2266.1 mid1  alt-frame              4  \n",
       "1201 746.2_mid1  ok         746.2  mid1  alt-frame              4  \n",
       "319  1667.1_mid1 ok         1667.1 mid1  alt-frame              1  "
      ]
     },
     "execution_count": 13,
     "metadata": {},
     "output_type": "execute_result"
    }
   ],
   "source": [
    "#monophyletic_denovo_class = monophyletic_denovo_class[monophyletic_denovo_class.n_mon_outgrps >= 2]\n",
    "monophyletic_denovo_class.head()"
   ]
  },
  {
   "cell_type": "code",
   "execution_count": 14,
   "metadata": {},
   "outputs": [
    {
     "name": "stdout",
     "output_type": "stream",
     "text": [
      "LCA_class\n",
      "alt-frame        0.434783\n",
      "fast-evolving    0.750000\n",
      "mel-specific     0.685185\n",
      "nonfunctional    0.609756\n",
      "utORFs           0.637902\n",
      "Name: n_mon_outgrps, dtype: float64\n"
     ]
    }
   ],
   "source": [
    "print(monophyletic_denovo_class.n_mon_outgrps.groupby('LCA_class').apply(lambda x: (x[x>1].count() / x.count())))"
   ]
  },
  {
   "cell_type": "code",
   "execution_count": 15,
   "metadata": {},
   "outputs": [
    {
     "name": "stdout",
     "output_type": "stream",
     "text": [
      "LCA_class\n",
      "alt-frame         (70, 161)\n",
      "fast-evolving      (72, 96)\n",
      "mel-specific       (37, 54)\n",
      "nonfunctional      (25, 41)\n",
      "utORFs           (377, 591)\n",
      "Name: n_mon_outgrps, dtype: object\n"
     ]
    }
   ],
   "source": [
    "print(monophyletic_denovo_class.n_mon_outgrps.groupby('LCA_class').apply(lambda x: (x[x>1].count(), x.count())))"
   ]
  },
  {
   "cell_type": "code",
   "execution_count": 16,
   "metadata": {},
   "outputs": [],
   "source": [
    "if True:\n",
    "    denovo = (pd.DataFrame(monophyletic_denovo_class.n_mon_outgrps).reset_index()\n",
    "             .set_index(['EBZid', 'LCA_class'])\n",
    "             .drop(['level_0', 'uniqueid','validation','midid'], axis=1)\n",
    "             .rename({0:'n_outgroup'}, axis=1)\n",
    "    )\n",
    "    denovo.index = denovo.index.rename([None, 'class'])\n",
    "\n",
    "    denovo = (pd.merge(post_data, denovo, left_index=True, right_index=True)\n",
    "                  .assign(denovo=lambda x: x.n_mon_outgrps > 1)\n",
    "                  .rename({'n_mon_outgrps':'n_outgroup'}, axis=1))\n",
    "    #denovo.sort_index().to_pickle('./elife-15.denovo_superstrict.pd.pic.gz')\n",
    "    #denovo_old = pd.read_pickle('../denovo_revised.pd.pic.gz')"
   ]
  },
  {
   "cell_type": "code",
   "execution_count": 17,
   "metadata": {},
   "outputs": [],
   "source": [
    "class_list = ['fast-evolving', 'alt-frame', 'utORFs', 'mel-specific', 'nonfunctional']\n",
    "\n",
    "class_palette = dict(zip(class_list, sns.color_palette()))\n",
    "\n",
    "from matplotlib import gridspec"
   ]
  },
  {
   "cell_type": "code",
   "execution_count": 18,
   "metadata": {},
   "outputs": [],
   "source": [
    "def recolor_boxplot(ax):\n",
    "    '''wtf why is this so hard'''\n",
    "    # see https://stackoverflow.com/questions/36874697/how-to-edit-properties-of-whiskers-fliers-caps-etc-in-seaborn-boxplot/36893152#36893152\n",
    "    \n",
    "    for i,artist in enumerate(ax.artists):\n",
    "        # Set the linecolor on the artist to the facecolor, and set the facecolor to None\n",
    "        col = 'k'\n",
    "        #col = artist.get_facecolor()\n",
    "        artist.set_edgecolor(col)\n",
    "        #artist.set_facecolor('None')\n",
    "\n",
    "        # Each box has 6 associated Line2D objects (to make the whiskers, fliers, etc.)\n",
    "        # Loop over them here, and use the same colour as above\n",
    "        for j in range(i*6,i*6+6):\n",
    "            line = ax.lines[j]\n",
    "            line.set_color(col)\n",
    "            line.set_mfc(col)\n",
    "            line.set_mec(col)\n",
    "    return"
   ]
  },
  {
   "cell_type": "code",
   "execution_count": 19,
   "metadata": {},
   "outputs": [
    {
     "data": {
      "text/html": [
       "<div>\n",
       "<style scoped>\n",
       "    .dataframe tbody tr th:only-of-type {\n",
       "        vertical-align: middle;\n",
       "    }\n",
       "\n",
       "    .dataframe tbody tr th {\n",
       "        vertical-align: top;\n",
       "    }\n",
       "\n",
       "    .dataframe thead th {\n",
       "        text-align: right;\n",
       "    }\n",
       "</style>\n",
       "<table border=\"1\" class=\"dataframe\">\n",
       "  <thead>\n",
       "    <tr style=\"text-align: right;\">\n",
       "      <th></th>\n",
       "      <th>count</th>\n",
       "      <th>mean</th>\n",
       "      <th>std</th>\n",
       "      <th>min</th>\n",
       "      <th>25%</th>\n",
       "      <th>50%</th>\n",
       "      <th>75%</th>\n",
       "      <th>max</th>\n",
       "    </tr>\n",
       "    <tr>\n",
       "      <th>class</th>\n",
       "      <th></th>\n",
       "      <th></th>\n",
       "      <th></th>\n",
       "      <th></th>\n",
       "      <th></th>\n",
       "      <th></th>\n",
       "      <th></th>\n",
       "      <th></th>\n",
       "    </tr>\n",
       "  </thead>\n",
       "  <tbody>\n",
       "    <tr>\n",
       "      <th>alt-frame</th>\n",
       "      <td>70.0</td>\n",
       "      <td>2.928571</td>\n",
       "      <td>1.231488</td>\n",
       "      <td>2.0</td>\n",
       "      <td>2.0</td>\n",
       "      <td>3.0</td>\n",
       "      <td>3.0</td>\n",
       "      <td>9.0</td>\n",
       "    </tr>\n",
       "    <tr>\n",
       "      <th>fast-evolving</th>\n",
       "      <td>72.0</td>\n",
       "      <td>5.847222</td>\n",
       "      <td>3.239978</td>\n",
       "      <td>2.0</td>\n",
       "      <td>3.0</td>\n",
       "      <td>5.0</td>\n",
       "      <td>8.0</td>\n",
       "      <td>16.0</td>\n",
       "    </tr>\n",
       "    <tr>\n",
       "      <th>mel-specific</th>\n",
       "      <td>37.0</td>\n",
       "      <td>8.837838</td>\n",
       "      <td>3.883823</td>\n",
       "      <td>2.0</td>\n",
       "      <td>6.0</td>\n",
       "      <td>10.0</td>\n",
       "      <td>11.0</td>\n",
       "      <td>16.0</td>\n",
       "    </tr>\n",
       "    <tr>\n",
       "      <th>nonfunctional</th>\n",
       "      <td>25.0</td>\n",
       "      <td>3.920000</td>\n",
       "      <td>2.564501</td>\n",
       "      <td>2.0</td>\n",
       "      <td>2.0</td>\n",
       "      <td>3.0</td>\n",
       "      <td>5.0</td>\n",
       "      <td>11.0</td>\n",
       "    </tr>\n",
       "    <tr>\n",
       "      <th>utORFs</th>\n",
       "      <td>377.0</td>\n",
       "      <td>3.506631</td>\n",
       "      <td>1.783668</td>\n",
       "      <td>2.0</td>\n",
       "      <td>2.0</td>\n",
       "      <td>3.0</td>\n",
       "      <td>4.0</td>\n",
       "      <td>11.0</td>\n",
       "    </tr>\n",
       "  </tbody>\n",
       "</table>\n",
       "</div>"
      ],
      "text/plain": [
       "               count      mean       std  min  25%   50%   75%   max\n",
       "class                                                               \n",
       "alt-frame       70.0  2.928571  1.231488  2.0  2.0   3.0   3.0   9.0\n",
       "fast-evolving   72.0  5.847222  3.239978  2.0  3.0   5.0   8.0  16.0\n",
       "mel-specific    37.0  8.837838  3.883823  2.0  6.0  10.0  11.0  16.0\n",
       "nonfunctional   25.0  3.920000  2.564501  2.0  2.0   3.0   5.0  11.0\n",
       "utORFs         377.0  3.506631  1.783668  2.0  2.0   3.0   4.0  11.0"
      ]
     },
     "execution_count": 19,
     "metadata": {},
     "output_type": "execute_result"
    }
   ],
   "source": [
    "denovo[denovo.denovo].groupby('class').n_outgroup.describe()"
   ]
  },
  {
   "cell_type": "markdown",
   "metadata": {},
   "source": [
    "## panel B"
   ]
  },
  {
   "cell_type": "code",
   "execution_count": 20,
   "metadata": {},
   "outputs": [
    {
     "data": {
      "image/png": "[encoded data removed]",
      "text/plain": [
       "<Figure size 450x300 with 2 Axes>"
      ]
     },
     "metadata": {},
     "output_type": "display_data"
    }
   ],
   "source": [
    "f = plt.figure(figsize=(3,2), dpi=150)\n",
    "gs = gridspec.GridSpec(1, 2, width_ratios=[5, 1])\n",
    "ax0 = plt.subplot(gs[0])\n",
    "plt.sca(ax0)\n",
    "sns.boxplot(data=denovo[denovo.denovo].reset_index(), x='class', y='n_outgroup', palette = class_palette,\n",
    "            order=['fast-evolving', 'alt-frame', 'utORFs', 'mel-specific', 'nonfunctional'],\n",
    "           linewidth=.75)\n",
    "plt.xticks(rotation=45, horizontalalignment='right', fontsize=7)\n",
    "plt.yticks(fontsize=7)\n",
    "plt.xlabel('class', fontsize=8)\n",
    "plt.ylabel('supporting outgroups', fontsize=8)\n",
    "ax0.text(-0.13, 1, 'B', transform=plt.gca().transAxes,\n",
    "      fontsize=12, fontweight='bold', va='bottom', ha='right')\n",
    "\n",
    "ax1 = plt.subplot(gs[1])\n",
    "plt.sca(ax1)\n",
    "sns.boxplot(data=denovo[denovo.denovo].reset_index(), y='n_outgroup', color=sns.color_palette()[5],\n",
    "           linewidth=.75)\n",
    "ax1.get_yaxis().set_visible(False)\n",
    "ax1.set_xticks([0])\n",
    "ax1.set_xticklabels(['overall'], fontsize=7)\n",
    "\n",
    "recolor_boxplot(ax0)\n",
    "recolor_boxplot(ax1)\n",
    "#plt.savefig('./elife-15_denovo_outgroups_finrev.pdf')\n",
    "plt.show()"
   ]
  },
  {
   "cell_type": "code",
   "execution_count": 21,
   "metadata": {},
   "outputs": [
    {
     "data": {
      "text/plain": [
       "class\n",
       "alt-frame        0.660377\n",
       "fast-evolving    0.837209\n",
       "mel-specific     0.755102\n",
       "nonfunctional    0.862069\n",
       "utORFs           0.711321\n",
       "Name: n_outgroup, dtype: float64"
      ]
     },
     "execution_count": 21,
     "metadata": {},
     "output_type": "execute_result"
    }
   ],
   "source": [
    "denovo.n_outgroup.groupby('class').apply(lambda x: x[x > 1].count() / x[x > 0].count())"
   ]
  },
  {
   "cell_type": "markdown",
   "metadata": {},
   "source": [
    "## n-supported counts"
   ]
  },
  {
   "cell_type": "code",
   "execution_count": 22,
   "metadata": {},
   "outputs": [
    {
     "data": {
      "text/plain": [
       "0.6781411359724613"
      ]
     },
     "execution_count": 22,
     "metadata": {},
     "output_type": "execute_result"
    }
   ],
   "source": [
    "denovo.n_outgroup[denovo.n_outgroup > 2].count() / denovo.n_outgroup[denovo.n_outgroup > 1].count()"
   ]
  },
  {
   "cell_type": "code",
   "execution_count": 23,
   "metadata": {},
   "outputs": [
    {
     "data": {
      "text/plain": [
       "394"
      ]
     },
     "execution_count": 23,
     "metadata": {},
     "output_type": "execute_result"
    }
   ],
   "source": [
    "denovo.n_outgroup[denovo.n_outgroup > 2].count()"
   ]
  },
  {
   "cell_type": "code",
   "execution_count": 24,
   "metadata": {},
   "outputs": [
    {
     "data": {
      "text/plain": [
       "581"
      ]
     },
     "execution_count": 24,
     "metadata": {},
     "output_type": "execute_result"
    }
   ],
   "source": [
    "denovo.n_outgroup[denovo.n_outgroup > 1].count()"
   ]
  },
  {
   "cell_type": "markdown",
   "metadata": {},
   "source": [
    "## vw barplot figure and chi-sq stats"
   ]
  },
  {
   "cell_type": "code",
   "execution_count": 25,
   "metadata": {},
   "outputs": [],
   "source": [
    "def _cumsum(l, step=.2):\n",
    "    r = list()\n",
    "    s = 0\n",
    "    for i in l:\n",
    "        s+= i\n",
    "        s+= step\n",
    "        r.append(s)\n",
    "        \n",
    "    return r\n",
    "\n",
    "def _interpol(l):\n",
    "    r = list()\n",
    "    for i, item in enumerate(l):\n",
    "        if i < len(l)-1:\n",
    "            r.append((l[i] + l[i+1])/2)\n",
    "    return r\n",
    "\n",
    "def var_width_barplot(data, x, y, w, label, step=10, **kwargs):\n",
    "    #label = x\n",
    "    height = data[y].values\n",
    "    bars = data[label].values\n",
    "    width = data[w].values\n",
    "    \n",
    "    bar_pos = _interpol([0]+_cumsum(width, step=step))\n",
    "\n",
    "    plt.bar(bar_pos, height, width=width, **kwargs)\n",
    "    plt.xticks(bar_pos, bars)\n",
    "\n",
    "    return plt.gca()"
   ]
  },
  {
   "cell_type": "markdown",
   "metadata": {},
   "source": [
    "## panel A"
   ]
  },
  {
   "cell_type": "code",
   "execution_count": 26,
   "metadata": {},
   "outputs": [
    {
     "data": {
      "image/png": "[encoded data removed]",
      "text/plain": [
       "<Figure size 450x300 with 1 Axes>"
      ]
     },
     "metadata": {},
     "output_type": "display_data"
    }
   ],
   "source": [
    "_ = (pd.DataFrame(denovo.reset_index().groupby('class').denovo.value_counts()).rename({'denovo':'count'}, axis=1)\n",
    " #.reset_index()\n",
    "    .unstack(-1))\n",
    "    #.pipe(lambda df: df.columns = ['one', 'two'])\n",
    "\n",
    "_.columns = ['no', 'yes']\n",
    "\n",
    "_ = _.assign(total = lambda df: df.no + df.yes,\n",
    "             prop = lambda df: df.yes / df.total,\n",
    "             invprop = lambda df: 1 - df.prop).reset_index()\n",
    "\n",
    "plt.figure(figsize=(3,2), dpi=150)\n",
    "var_width_barplot(_.iloc[[1,0,4,2,3]], 'class', 'prop', 'total', 'class', step=25,\n",
    "                  color=[class_palette[i] for i in _.iloc[[1,0,4,2,3]]['class'].values],\n",
    "                  linewidth=0\n",
    "                 )\n",
    "var_width_barplot(_.iloc[[1,0,4,2,3]], 'class', 'invprop', 'total', 'class', step=25,\n",
    "                  bottom=_.iloc[[1,0,4,2,3]]['prop'], color='gray', \n",
    "                  linewidth=0\n",
    "                 )\n",
    "plt.xticks(rotation=45, horizontalalignment='right',\n",
    "          fontsize=7)\n",
    "plt.ylabel('proportion', fontsize=7)\n",
    "plt.yticks(fontsize=7)\n",
    "#plt.tight_layout()\n",
    "#plt.ylim(0,1)\n",
    "\n",
    "plt.gca().text(-0.13, 1, 'A', transform=plt.gca().transAxes,\n",
    "      fontsize=12, fontweight='bold', va='bottom', ha='right')\n",
    "\n",
    "#plt.savefig('./elife-15_denovo_classes_finrev.pdf')\n",
    "plt.show()"
   ]
  },
  {
   "cell_type": "code",
   "execution_count": 27,
   "metadata": {},
   "outputs": [
    {
     "data": {
      "text/html": [
       "<div>\n",
       "<style scoped>\n",
       "    .dataframe tbody tr th:only-of-type {\n",
       "        vertical-align: middle;\n",
       "    }\n",
       "\n",
       "    .dataframe tbody tr th {\n",
       "        vertical-align: top;\n",
       "    }\n",
       "\n",
       "    .dataframe thead th {\n",
       "        text-align: right;\n",
       "    }\n",
       "</style>\n",
       "<table border=\"1\" class=\"dataframe\">\n",
       "  <thead>\n",
       "    <tr style=\"text-align: right;\">\n",
       "      <th></th>\n",
       "      <th>class</th>\n",
       "      <th>no</th>\n",
       "      <th>yes</th>\n",
       "      <th>total</th>\n",
       "      <th>prop</th>\n",
       "      <th>invprop</th>\n",
       "    </tr>\n",
       "  </thead>\n",
       "  <tbody>\n",
       "    <tr>\n",
       "      <th>0</th>\n",
       "      <td>alt-frame</td>\n",
       "      <td>91</td>\n",
       "      <td>70</td>\n",
       "      <td>161</td>\n",
       "      <td>0.434783</td>\n",
       "      <td>0.565217</td>\n",
       "    </tr>\n",
       "    <tr>\n",
       "      <th>1</th>\n",
       "      <td>fast-evolving</td>\n",
       "      <td>24</td>\n",
       "      <td>72</td>\n",
       "      <td>96</td>\n",
       "      <td>0.750000</td>\n",
       "      <td>0.250000</td>\n",
       "    </tr>\n",
       "    <tr>\n",
       "      <th>2</th>\n",
       "      <td>mel-specific</td>\n",
       "      <td>17</td>\n",
       "      <td>37</td>\n",
       "      <td>54</td>\n",
       "      <td>0.685185</td>\n",
       "      <td>0.314815</td>\n",
       "    </tr>\n",
       "    <tr>\n",
       "      <th>3</th>\n",
       "      <td>nonfunctional</td>\n",
       "      <td>16</td>\n",
       "      <td>25</td>\n",
       "      <td>41</td>\n",
       "      <td>0.609756</td>\n",
       "      <td>0.390244</td>\n",
       "    </tr>\n",
       "    <tr>\n",
       "      <th>4</th>\n",
       "      <td>utORFs</td>\n",
       "      <td>214</td>\n",
       "      <td>377</td>\n",
       "      <td>591</td>\n",
       "      <td>0.637902</td>\n",
       "      <td>0.362098</td>\n",
       "    </tr>\n",
       "  </tbody>\n",
       "</table>\n",
       "</div>"
      ],
      "text/plain": [
       "           class   no  yes  total      prop   invprop\n",
       "0      alt-frame   91   70    161  0.434783  0.565217\n",
       "1  fast-evolving   24   72     96  0.750000  0.250000\n",
       "2   mel-specific   17   37     54  0.685185  0.314815\n",
       "3  nonfunctional   16   25     41  0.609756  0.390244\n",
       "4         utORFs  214  377    591  0.637902  0.362098"
      ]
     },
     "execution_count": 27,
     "metadata": {},
     "output_type": "execute_result"
    }
   ],
   "source": [
    "_"
   ]
  },
  {
   "cell_type": "code",
   "execution_count": 28,
   "metadata": {},
   "outputs": [
    {
     "data": {
      "text/html": [
       "<div>\n",
       "<style scoped>\n",
       "    .dataframe tbody tr th:only-of-type {\n",
       "        vertical-align: middle;\n",
       "    }\n",
       "\n",
       "    .dataframe tbody tr th {\n",
       "        vertical-align: top;\n",
       "    }\n",
       "\n",
       "    .dataframe thead th {\n",
       "        text-align: right;\n",
       "    }\n",
       "</style>\n",
       "<table border=\"1\" class=\"dataframe\">\n",
       "  <thead>\n",
       "    <tr style=\"text-align: right;\">\n",
       "      <th></th>\n",
       "      <th>class</th>\n",
       "      <th>no</th>\n",
       "      <th>yes</th>\n",
       "      <th>total</th>\n",
       "      <th>prop</th>\n",
       "      <th>invprop</th>\n",
       "    </tr>\n",
       "  </thead>\n",
       "  <tbody>\n",
       "    <tr>\n",
       "      <th>1</th>\n",
       "      <td>fast-evolving</td>\n",
       "      <td>24</td>\n",
       "      <td>72</td>\n",
       "      <td>96</td>\n",
       "      <td>0.750000</td>\n",
       "      <td>0.250000</td>\n",
       "    </tr>\n",
       "    <tr>\n",
       "      <th>0</th>\n",
       "      <td>alt-frame</td>\n",
       "      <td>91</td>\n",
       "      <td>70</td>\n",
       "      <td>161</td>\n",
       "      <td>0.434783</td>\n",
       "      <td>0.565217</td>\n",
       "    </tr>\n",
       "    <tr>\n",
       "      <th>4</th>\n",
       "      <td>utORFs</td>\n",
       "      <td>214</td>\n",
       "      <td>377</td>\n",
       "      <td>591</td>\n",
       "      <td>0.637902</td>\n",
       "      <td>0.362098</td>\n",
       "    </tr>\n",
       "    <tr>\n",
       "      <th>2</th>\n",
       "      <td>mel-specific</td>\n",
       "      <td>17</td>\n",
       "      <td>37</td>\n",
       "      <td>54</td>\n",
       "      <td>0.685185</td>\n",
       "      <td>0.314815</td>\n",
       "    </tr>\n",
       "    <tr>\n",
       "      <th>3</th>\n",
       "      <td>nonfunctional</td>\n",
       "      <td>16</td>\n",
       "      <td>25</td>\n",
       "      <td>41</td>\n",
       "      <td>0.609756</td>\n",
       "      <td>0.390244</td>\n",
       "    </tr>\n",
       "  </tbody>\n",
       "</table>\n",
       "</div>"
      ],
      "text/plain": [
       "           class   no  yes  total      prop   invprop\n",
       "1  fast-evolving   24   72     96  0.750000  0.250000\n",
       "0      alt-frame   91   70    161  0.434783  0.565217\n",
       "4         utORFs  214  377    591  0.637902  0.362098\n",
       "2   mel-specific   17   37     54  0.685185  0.314815\n",
       "3  nonfunctional   16   25     41  0.609756  0.390244"
      ]
     },
     "execution_count": 28,
     "metadata": {},
     "output_type": "execute_result"
    }
   ],
   "source": [
    "_.iloc[[1,0,4,2,3]]"
   ]
  },
  {
   "cell_type": "code",
   "execution_count": 29,
   "metadata": {},
   "outputs": [],
   "source": [
    "contingencytable = _[['class', 'no', 'yes']].set_index('class')"
   ]
  },
  {
   "cell_type": "code",
   "execution_count": 30,
   "metadata": {},
   "outputs": [],
   "source": [
    "import rpy2\n",
    "import rpy2.robjects as robjects\n",
    "from rpy2.robjects.packages import importr\n",
    "from rpy2.robjects import pandas2ri\n",
    "\n",
    "from rpy2.robjects.conversion import localconverter\n",
    "\n",
    "r = robjects.r"
   ]
  },
  {
   "cell_type": "code",
   "execution_count": 31,
   "metadata": {},
   "outputs": [],
   "source": [
    "with localconverter(robjects.default_converter + pandas2ri.converter):\n",
    "    robjects.globalenv['contingencytable'] = robjects.conversion.py2rpy(contingencytable)"
   ]
  },
  {
   "cell_type": "code",
   "execution_count": 32,
   "metadata": {},
   "outputs": [],
   "source": [
    "r_chisq = r('''chisq.test(contingencytable)''')"
   ]
  },
  {
   "cell_type": "code",
   "execution_count": 33,
   "metadata": {},
   "outputs": [
    {
     "name": "stdout",
     "output_type": "stream",
     "text": [
      "               no yes\n",
      "alt-frame      91  70\n",
      "fast-evolving  24  72\n",
      "mel-specific   17  37\n",
      "nonfunctional  16  25\n",
      "utORFs        214 377\n"
     ]
    },
    {
     "data": {
      "text/plain": [
       "<rpy2.rinterface_lib.sexp.NULLType object at 0x7f937e9d2188> [RTYPES.NILSXP]"
      ]
     },
     "execution_count": 33,
     "metadata": {},
     "output_type": "execute_result"
    }
   ],
   "source": [
    "r('''show(contingencytable)''')"
   ]
  },
  {
   "cell_type": "code",
   "execution_count": 34,
   "metadata": {},
   "outputs": [
    {
     "name": "stdout",
     "output_type": "stream",
     "text": [
      "\n",
      "\tPearson's Chi-squared test\n",
      "\n",
      "data:  contingencytable\n",
      "X-squared = 31.941, df = 4, p-value = 1.967e-06\n",
      "\n"
     ]
    },
    {
     "data": {
      "text/plain": [
       "<rpy2.rinterface_lib.sexp.NULLType object at 0x7f937e9d2188> [RTYPES.NILSXP]"
      ]
     },
     "execution_count": 34,
     "metadata": {},
     "output_type": "execute_result"
    }
   ],
   "source": [
    "r('''show(chisq.test(contingencytable))''')"
   ]
  },
  {
   "cell_type": "code",
   "execution_count": 35,
   "metadata": {},
   "outputs": [
    {
     "name": "stdout",
     "output_type": "stream",
     "text": [
      "$statistic\n",
      "X-squared \n",
      " 31.94084 \n",
      "\n",
      "\n",
      "$parameter\n",
      "df \n",
      " 4 \n",
      "\n",
      "\n",
      "$p.value\n",
      "[1] 1.967105e-06\n",
      "\n",
      "\n",
      "$method\n",
      "[1] \"Pearson's Chi-squared test\"\n",
      "\n",
      "\n",
      "$data.name\n",
      "[1] \"contingencytable\"\n",
      "\n",
      "\n",
      "$observed\n",
      "               no yes\n",
      "alt-frame      91  70\n",
      "fast-evolving  24  72\n",
      "mel-specific   17  37\n",
      "nonfunctional  16  25\n",
      "utORFs        214 377\n",
      "\n",
      "\n",
      "$expected\n",
      "                     no       yes\n",
      "alt-frame      61.80488  99.19512\n",
      "fast-evolving  36.85260  59.14740\n",
      "mel-specific   20.72959  33.27041\n",
      "nonfunctional  15.73913  25.26087\n",
      "utORFs        226.87381 364.12619\n",
      "\n",
      "\n",
      "$residuals\n",
      "                       no         yes\n",
      "alt-frame      3.71363244 -2.93133286\n",
      "fast-evolving -2.11717556  1.67117947\n",
      "mel-specific  -0.81915362  0.64659386\n",
      "nonfunctional  0.06575565 -0.05190381\n",
      "utORFs        -0.85470219  0.67465390\n",
      "\n",
      "\n",
      "$stdres\n",
      "                       no         yes\n",
      "alt-frame      5.19540211 -5.19540211\n",
      "fast-evolving -2.84602554  2.84602554\n",
      "mel-specific  -1.07482585  1.07482585\n",
      "nonfunctional  0.08565514 -0.08565514\n",
      "utORFs        -1.78224379  1.78224379\n",
      "\n",
      "\n"
     ]
    }
   ],
   "source": [
    "for key in r_chisq.names: print(r_chisq.rx(key))"
   ]
  },
  {
   "cell_type": "markdown",
   "metadata": {},
   "source": [
    "## denovo ingroup losses (panel C)"
   ]
  },
  {
   "cell_type": "code",
   "execution_count": 36,
   "metadata": {},
   "outputs": [
    {
     "data": {
      "text/plain": [
       "count    1020.000000\n",
       "mean        3.995098\n",
       "std         3.476682\n",
       "min        -1.000000\n",
       "25%         1.000000\n",
       "50%         3.000000\n",
       "75%         6.000000\n",
       "max        17.000000\n",
       "dtype: float64"
      ]
     },
     "execution_count": 36,
     "metadata": {},
     "output_type": "execute_result"
    }
   ],
   "source": [
    "def check_phased_nonconserved_ingrp(series, thres, output='count'):\n",
    "    reforder = ['dm', 'droSim', 'droSec', 'droYak',\n",
    "       'droEre', 'droBia', 'droSuz',\n",
    "       'droAna', 'droBip', 'droEug',\n",
    "       'droEle', 'droKik', 'droTak',\n",
    "       'droRho', 'droFic', 'droPse',\n",
    "       'droPer', 'droMir', 'droWil',\n",
    "       'droVir', 'droMoj', 'droAlb',\n",
    "       'droGri', \n",
    "       'musDom', 'anoGam', 'apiMel', 'triCas']\n",
    "        \n",
    "    names = (series[series > thres]).index.values\n",
    "    oldest = oldest_extant_relative(None, names)\n",
    "    \n",
    "    if oldest in reforder:\n",
    "        idx_old = reforder.index(oldest)\n",
    "    else:\n",
    "        return -1\n",
    "    \n",
    "    ingroups = reforder[:idx_old+1]\n",
    "    noncons = series[(series < thres) & (series > 0)].index.values\n",
    "    present = [sp for sp in ingroups if sp in noncons]\n",
    "    \n",
    "    if output is 'count':\n",
    "        return len(present)#, len(noncons)\n",
    "    elif output is 'list':\n",
    "        return present\n",
    "    else:\n",
    "        raise ValueError(output)\n",
    "        \n",
    "n_ingroups = single_blosum62_score_table.fillna(-1).apply(check_phased_nonconserved_ingrp, args=(2.5,) , axis=1)\n",
    "n_ingroups.describe()"
   ]
  },
  {
   "cell_type": "code",
   "execution_count": 37,
   "metadata": {},
   "outputs": [],
   "source": [
    "denovo_ingrp = (pd.DataFrame(pd.concat([single_blosum62_score_table.reset_index().set_index('EBZid'), post_classes], axis=1, sort=True)\n",
    "        .reset_index()\n",
    "        .rename({'index':'EBZid', 0:'LCA_class', 'level_0':None}, axis=1)\n",
    "        .set_index([None, 'uniqueid', 'validation', 'EBZid',  'midid'])\n",
    "        .dropna(subset=['LCA_class'])\n",
    "        .sort_values(by='LCA_class')\n",
    "        .fillna(0).set_index('LCA_class', append=True)\n",
    "        .pipe(lambda df: df[speciesorder])\n",
    "        .apply(check_phased_nonconserved_ingrp, args=(2.5,) , axis=1)).reset_index()\n",
    "         .set_index(['EBZid', 'LCA_class'])\n",
    "         .drop(['level_0', 'uniqueid','validation','midid'], axis=1)\n",
    "         .rename({0:'n_ingroup'}, axis=1)\n",
    "    )\n",
    "denovo_ingrp.index = denovo_ingrp.index.rename([None, 'class'])\n",
    "\n",
    "denovo_ingrp = pd.merge(post_data, denovo_ingrp, left_index=True, right_index=True)\n",
    "denovo_ingrp = denovo_ingrp.sort_index()\n",
    "denovo_ingrp['denovo'] = denovo.denovo"
   ]
  },
  {
   "cell_type": "code",
   "execution_count": 38,
   "metadata": {},
   "outputs": [
    {
     "data": {
      "text/plain": [
       "True     581\n",
       "False    362\n",
       "Name: denovo, dtype: int64"
      ]
     },
     "execution_count": 38,
     "metadata": {},
     "output_type": "execute_result"
    }
   ],
   "source": [
    "denovo_ingrp.denovo.value_counts()"
   ]
  },
  {
   "cell_type": "markdown",
   "metadata": {},
   "source": [
    "## panel C"
   ]
  },
  {
   "cell_type": "code",
   "execution_count": 39,
   "metadata": {},
   "outputs": [
    {
     "data": {
      "image/png": "[encoded data removed]",
      "text/plain": [
       "<Figure size 450x300 with 2 Axes>"
      ]
     },
     "metadata": {},
     "output_type": "display_data"
    }
   ],
   "source": [
    "f = plt.figure(figsize=(3,2), dpi=150)\n",
    "gs = gridspec.GridSpec(1, 2, width_ratios=[5, 1])\n",
    "ax0 = plt.subplot(gs[0])\n",
    "plt.sca(ax0)\n",
    "sns.boxplot(data=denovo_ingrp[denovo_ingrp.denovo].reset_index(), x='class', y='n_ingroup', order = class_list,\n",
    "            palette = class_palette, linewidth=.75)\n",
    "plt.xticks(rotation=45, horizontalalignment='right', fontsize=7)\n",
    "plt.yticks(fontsize=7)\n",
    "plt.xlabel('class', fontsize=8)\n",
    "plt.ylabel('inferred losses', fontsize=8)\n",
    "\n",
    "ax1 = plt.subplot(gs[1])\n",
    "plt.sca(ax1)\n",
    "sns.boxplot(data=denovo_ingrp[denovo_ingrp.denovo].reset_index(), y='n_ingroup', color=sns.color_palette()[5],\n",
    "            linewidth=.75,\n",
    "            )\n",
    "ax1.get_yaxis().set_visible(False)\n",
    "ax1.set_xticks([0])\n",
    "ax1.set_xticklabels(['overall'], fontsize=7)\n",
    "\n",
    "plt.sca(ax0)\n",
    "\n",
    "labels = [item.get_text() for item in ax0.get_xticklabels()]\n",
    "labels[1] = 'alternate-frame'\n",
    "labels[3] = 'melanogaster-specific'\n",
    "ax0.set_xticklabels(labels)\n",
    "\n",
    "plt.gca().text(-0.13, 1, 'C', transform=plt.gca().transAxes,\n",
    "      fontsize=12, fontweight='bold', va='bottom', ha='right')\n",
    "\n",
    "recolor_boxplot(ax0)\n",
    "recolor_boxplot(ax1)\n",
    "#plt.savefig('./elife-15_denovo_internallosses.pdf')\n",
    "plt.show()"
   ]
  },
  {
   "cell_type": "code",
   "execution_count": 40,
   "metadata": {},
   "outputs": [
    {
     "data": {
      "text/plain": [
       "470"
      ]
     },
     "execution_count": 40,
     "metadata": {},
     "output_type": "execute_result"
    }
   ],
   "source": [
    "denovo_ingrp.n_ingroup[(denovo_ingrp.n_ingroup > 0) & (denovo_ingrp.denovo)].count()"
   ]
  },
  {
   "cell_type": "code",
   "execution_count": 41,
   "metadata": {},
   "outputs": [
    {
     "data": {
      "text/plain": [
       "581"
      ]
     },
     "execution_count": 41,
     "metadata": {},
     "output_type": "execute_result"
    }
   ],
   "source": [
    "denovo_ingrp.denovo[denovo_ingrp.denovo].count()"
   ]
  },
  {
   "cell_type": "code",
   "execution_count": 42,
   "metadata": {},
   "outputs": [
    {
     "data": {
      "text/plain": [
       "0.8089500860585198"
      ]
     },
     "execution_count": 42,
     "metadata": {},
     "output_type": "execute_result"
    }
   ],
   "source": [
    "denovo_ingrp.n_ingroup[(denovo_ingrp.n_ingroup > 0) & (denovo_ingrp.denovo)].count() / denovo_ingrp.denovo[denovo_ingrp.denovo].count()"
   ]
  },
  {
   "cell_type": "code",
   "execution_count": null,
   "metadata": {},
   "outputs": [],
   "source": []
  }
 ],
 "metadata": {
  "kernelspec": {
   "display_name": "Python 3",
   "language": "python",
   "name": "python3"
  },
  "language_info": {
   "codemirror_mode": {
    "name": "ipython",
    "version": 3
   },
   "file_extension": ".py",
   "mimetype": "text/x-python",
   "name": "python",
   "nbconvert_exporter": "python",
   "pygments_lexer": "ipython3",
   "version": "3.6.13"
  },
  "notify_time": "5",
  "toc": {
   "nav_menu": {},
   "number_sections": true,
   "sideBar": true,
   "skip_h1_title": false,
   "toc_cell": false,
   "toc_position": {},
   "toc_section_display": "block",
   "toc_window_display": true
  }
 },
 "nbformat": 4,
 "nbformat_minor": 2
}
