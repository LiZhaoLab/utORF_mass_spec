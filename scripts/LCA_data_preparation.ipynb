{
 "cells": [
  {
   "cell_type": "code",
   "execution_count": 1,
   "metadata": {},
   "outputs": [],
   "source": [
    "import pandas as pd\n",
    "import numpy as np\n",
    "import matplotlib.pyplot as plt\n",
    "from sklearn import decomposition as skdc\n",
    "from sklearn import manifold as skmf\n",
    "import matplotlib.colors as mpclrs\n",
    "import sys\n",
    "sys.path.insert(0, '/ru-auth/local/home/ezheng/temp')\n",
    "import GTF\n",
    "import seaborn as sns\n",
    "from scipy import stats as spstats"
   ]
  },
  {
   "cell_type": "code",
   "execution_count": 2,
   "metadata": {},
   "outputs": [],
   "source": [
    "safered = \"#920000\"\n",
    "safegreen = \"#009292\"\n",
    "safeviolet = \"#490092\"\n",
    "safe_threecolor = [safeviolet, safegreen, safered]"
   ]
  },
  {
   "cell_type": "code",
   "execution_count": 3,
   "metadata": {},
   "outputs": [],
   "source": [
    "# from https://stackoverflow.com/questions/22987015/slice-pandas-dataframe-by-multiindex-level-or-sublevel\n",
    "# some syntactic sugar to deal with inane pandas\n",
    "\n",
    "def filter_by(df, constraints):\n",
    "    \"\"\"Filter MultiIndex by sublevels.\"\"\"\n",
    "    indexer = [constraints[name] if name in constraints else slice(None)\n",
    "               for name in df.index.names]\n",
    "    return df.loc[tuple(indexer)] if len(df.shape) == 1 else df.loc[tuple(indexer),]\n",
    "\n",
    "pd.Series.filter_by = filter_by\n",
    "pd.DataFrame.filter_by = filter_by"
   ]
  },
  {
   "cell_type": "code",
   "execution_count": 4,
   "metadata": {},
   "outputs": [],
   "source": [
    "minspeciesorder = ['dm', 'droSec',\n",
    "       'droEre', 'droSuz',\n",
    "       'droBip', \n",
    "       'droRho', 'droFic',\n",
    "       'droMir', 'droWil',\n",
    "       'droGri', \n",
    "       'musDom', 'anoGam', 'apiMel', 'triCas']"
   ]
  },
  {
   "cell_type": "code",
   "execution_count": 6,
   "metadata": {},
   "outputs": [],
   "source": [
    "FB2_TPM = pd.read_pickle('../addlsourcedata/FB2_supermultiTPM.pandas.pic.gz')\n",
    "modENCODE_TPM = pd.read_pickle('../addlsourcedata/modENCODE_supermultiTPM.pandas.pic.gz')\n",
    "modENCODE_TPM.index.rename('Gene ID', level=0, inplace=True)"
   ]
  },
  {
   "cell_type": "code",
   "execution_count": 7,
   "metadata": {},
   "outputs": [],
   "source": [
    "supermultiTPM = pd.merge(FB2_TPM, modENCODE_TPM, how='outer', left_index=True, right_index=True)"
   ]
  },
  {
   "cell_type": "code",
   "execution_count": 8,
   "metadata": {},
   "outputs": [
    {
     "data": {
      "text/plain": [
       "(1719, 105)"
      ]
     },
     "execution_count": 8,
     "metadata": {},
     "output_type": "execute_result"
    }
   ],
   "source": [
    "FB2_TPM.filter_by({'gene_class':'novel_candidate'}).shape"
   ]
  },
  {
   "cell_type": "markdown",
   "metadata": {},
   "source": [
    "## sigTPM"
   ]
  },
  {
   "cell_type": "code",
   "execution_count": 10,
   "metadata": {},
   "outputs": [],
   "source": [
    "bool_transform = {True: '1', False: '2'}\n",
    "bool_dict = {'1': True, '2': False}"
   ]
  },
  {
   "cell_type": "code",
   "execution_count": 11,
   "metadata": {},
   "outputs": [
    {
     "name": "stdout",
     "output_type": "stream",
     "text": [
      "(1056,)\n",
      "gene_symbol\n",
      "10.1      1\n",
      "100.1     1\n",
      "1001.1    1\n",
      "1004.1    1\n",
      "101.1     1\n",
      "dtype: object\n"
     ]
    }
   ],
   "source": [
    "# generate a series of TPMs\n",
    "\n",
    "sigTPM_thres = 0.1\n",
    "sht_sigTPM = (supermultiTPM.filter_by({'gene_class':'novel_candidate'})\n",
    "    #.groupby(level=['gene_symbol','seqname']).sum()\n",
    "     .groupby(level=['gene_symbol']).sum()\n",
    "    #.loc[lambda x: x.max(axis='columns') >= 1]\n",
    "    .max(axis='columns'))\n",
    "print(sht_sigTPM.shape)\n",
    "LCA_sigTPM = (sht_sigTPM\n",
    "                  .pipe(lambda s: s > sigTPM_thres)\n",
    "                  .replace(bool_transform))\n",
    "print(LCA_sigTPM.head())\n",
    "\n",
    "# LCA_sigTPM:\n",
    "#     1: False\n",
    "#     2: True"
   ]
  },
  {
   "cell_type": "code",
   "execution_count": null,
   "metadata": {},
   "outputs": [],
   "source": []
  },
  {
   "cell_type": "markdown",
   "metadata": {},
   "source": [
    "## monophyly"
   ]
  },
  {
   "cell_type": "code",
   "execution_count": 13,
   "metadata": {},
   "outputs": [
    {
     "name": "stdout",
     "output_type": "stream",
     "text": [
      "(1020,)\n"
     ]
    },
    {
     "data": {
      "text/plain": [
       "EBZid\n",
       "10.1      2\n",
       "100.1     2\n",
       "1001.1    2\n",
       "1004.1    1\n",
       "101.1     2\n",
       "Name: monophyletic, dtype: object"
      ]
     },
     "execution_count": 13,
     "metadata": {},
     "output_type": "execute_result"
    }
   ],
   "source": [
    "monophyletic = pd.read_pickle('../addlsourcedata/monophyletic.pandas.pic.gz')\n",
    "sht_monophyletic = (monophyletic.reset_index()\n",
    "                        .sort_values(['EBZid', 'midid'], ascending=True)\n",
    "                        .drop_duplicates('EBZid', keep='first')\n",
    "                        .set_index(['EBZid'])\n",
    "                        .monophyletic)\n",
    "print(sht_monophyletic.shape)\n",
    "LCA_monophyletic = sht_monophyletic.replace(bool_transform)\n",
    "# LCA_monophyletic:\n",
    "#     1: False\n",
    "#     2: True\n",
    "LCA_monophyletic.head()"
   ]
  },
  {
   "cell_type": "markdown",
   "metadata": {},
   "source": [
    "## age tier"
   ]
  },
  {
   "cell_type": "code",
   "execution_count": 14,
   "metadata": {},
   "outputs": [
    {
     "name": "stdout",
     "output_type": "stream",
     "text": [
      "(1020,)\n",
      "EBZid\n",
      "10.1      droRho\n",
      "100.1     droFic\n",
      "1001.1    droMir\n",
      "1004.1    droSuz\n",
      "101.1     droFic\n",
      "Name: furthest, dtype: object\n",
      "(1020,)\n"
     ]
    },
    {
     "data": {
      "text/plain": [
       "EBZid\n",
       "10.1      6\n",
       "100.1     7\n",
       "1001.1    8\n",
       "1004.1    4\n",
       "101.1     7\n",
       "Name: furthest, dtype: object"
      ]
     },
     "execution_count": 14,
     "metadata": {},
     "output_type": "execute_result"
    }
   ],
   "source": [
    "furthest = pd.read_pickle('../addlsourcedata/furthest.pandas.pic.gz')\n",
    "\n",
    "# squash surplus nodes\n",
    "furthest = (furthest\n",
    "            .replace('droSim', 'droSec')\n",
    "            .replace('droBia', 'droSuz')\n",
    "            .replace('droYak', 'droEre')\n",
    "            .replace('droAna', 'droBip')\n",
    "            .replace('droEug', 'droRho')\n",
    "            .replace('droEle', 'droRho')\n",
    "            .replace('droKik', 'droRho')\n",
    "            .replace('droTak', 'droRho')\n",
    "            .replace('droPse', 'droMir')\n",
    "            .replace('droPer', 'droMir')\n",
    "            .replace('droVir', 'droGri')\n",
    "            .replace('droMoj', 'droGri')\n",
    "            .replace('droAlb', 'droGri'))\n",
    "\n",
    "speciesorder = ['dm', 'droSim', 'droSec', 'droYak',\n",
    "       'droEre', 'droBia', 'droSuz',\n",
    "       'droAna', 'droBip', 'droEug',\n",
    "       'droEle', 'droKik', 'droTak',\n",
    "       'droRho', 'droFic', 'droPse',\n",
    "       'droPer', 'droMir', 'droWil',\n",
    "       'droVir', 'droMoj', 'droAlb',\n",
    "       'droGri', \n",
    "       'musDom', 'anoGam', 'apiMel', 'triCas']\n",
    "\n",
    "minspeciesorder = ['dm', 'droSec',\n",
    "       'droEre', 'droSuz',\n",
    "       'droBip', \n",
    "       'droRho', 'droFic',\n",
    "       'droMir', 'droWil',\n",
    "       'droGri', \n",
    "       'musDom', 'anoGam', 'apiMel', 'triCas']\n",
    "\n",
    "sht_furthest = furthest.reset_index().set_index('EBZid').furthest\n",
    "print(sht_furthest.shape)\n",
    "print(sht_furthest.head())\n",
    "\n",
    "LCA_furthest_transform = {species: str(k+1) for k, species in enumerate(minspeciesorder)}\n",
    "LCA_furthest_dict = {str(k+1): species for k, species in enumerate(minspeciesorder)}\n",
    "\n",
    "LCA_furthest = sht_furthest.replace(LCA_furthest_transform)\n",
    "print(LCA_furthest.shape)\n",
    "LCA_furthest.head()"
   ]
  },
  {
   "cell_type": "code",
   "execution_count": 15,
   "metadata": {},
   "outputs": [],
   "source": [
    "single_blosum62_score_table = pd.read_pickle('~/temp/single_blosum62.pandas.pic.gz')\n",
    "metadata = pd.read_csv('/ru-auth/local/home/ezheng/results/Dmel_MSannot/fin_finalproteins_classes.csv', index_col=0)"
   ]
  },
  {
   "cell_type": "markdown",
   "metadata": {},
   "source": [
    "## conservation predictions"
   ]
  },
  {
   "cell_type": "code",
   "execution_count": 16,
   "metadata": {},
   "outputs": [],
   "source": [
    "phyloP = (pd.read_csv('/ru-auth/local/home/ezheng/results/Dmel_MSannot/EBZ-orf-phyloP_byEBZ_ID.txt')\n",
    "    .assign(EBZid=lambda x: x['Target'].str.extract(r'(?<=EBZ_)([0-9\\.]+)(?=-|_)')))\n",
    "\n",
    "phastcons = (pd.read_csv('/ru-auth/local/home/ezheng/results/Dmel_MSannot/EBZ-orf-phastcons_byEBZ_ID.txt')\n",
    "    .assign(EBZid=lambda x: x['Target'].str.extract(r'(?<=EBZ_)([0-9\\.]+)(?=-|_)')))"
   ]
  },
  {
   "cell_type": "code",
   "execution_count": 17,
   "metadata": {},
   "outputs": [],
   "source": [
    "conservation = pd.merge(phyloP, phastcons, left_on=['EBZid', 'Target'], right_on=['EBZid', 'Target'])\n",
    "conservation = conservation[conservation.EBZid.isin(metadata.EBZ_IDnew.astype(str))].set_index('EBZid')"
   ]
  },
  {
   "cell_type": "code",
   "execution_count": 18,
   "metadata": {},
   "outputs": [
    {
     "name": "stdout",
     "output_type": "stream",
     "text": [
      "amb        474\n",
      "cons       364\n",
      "noncons    136\n",
      "Name: phastCons, dtype: int64\n"
     ]
    },
    {
     "data": {
      "text/plain": [
       "2    474\n",
       "3    364\n",
       "1    136\n",
       "Name: phastCons, dtype: int64"
      ]
     },
     "execution_count": 18,
     "metadata": {},
     "output_type": "execute_result"
    }
   ],
   "source": [
    "LCA_phastCons_labels = ['noncons', 'amb', 'cons']\n",
    "LCA_phastCons_transform = {'noncons':'1', 'amb':'2', 'cons':'3'}\n",
    "\n",
    "sht_phastCons = conservation.phastCons\n",
    "LCA_phastCons = pd.cut(conservation.phastCons, bins=[0, 0.2, 0.8, 1.0], labels=LCA_phastCons_labels)\n",
    "print(LCA_phastCons.value_counts())\n",
    "LCA_phastCons.shape\n",
    "LCA_phastCons = LCA_phastCons.replace(LCA_phastCons_transform)\n",
    "LCA_phastCons.value_counts()"
   ]
  },
  {
   "cell_type": "code",
   "execution_count": 19,
   "metadata": {},
   "outputs": [
    {
     "name": "stdout",
     "output_type": "stream",
     "text": [
      "amb        485\n",
      "sigcons    443\n",
      "noncons     63\n",
      "Name: phyloP, dtype: int64\n"
     ]
    },
    {
     "data": {
      "text/plain": [
       "2    485\n",
       "3    443\n",
       "1     63\n",
       "Name: phyloP, dtype: int64"
      ]
     },
     "execution_count": 19,
     "metadata": {},
     "output_type": "execute_result"
    }
   ],
   "source": [
    "LCA_phyloP_labels = ['noncons', 'amb', 'sigcons']\n",
    "LCA_phyloP_transform = {'noncons':'1', 'amb':'2', 'sigcons':'3'}\n",
    "\n",
    "sht_phyloP = conservation.phyloP\n",
    "LCA_phyloP = pd.cut(conservation.phyloP, bins=[-5, 0, 1.30, 100], labels=LCA_phyloP_labels)\n",
    "print(LCA_phyloP.value_counts())\n",
    "LCA_phyloP.shape\n",
    "LCA_phyloP = LCA_phyloP.replace(LCA_phyloP_transform)\n",
    "LCA_phyloP.value_counts()"
   ]
  },
  {
   "cell_type": "markdown",
   "metadata": {},
   "source": [
    "## location"
   ]
  },
  {
   "cell_type": "code",
   "execution_count": 20,
   "metadata": {},
   "outputs": [
    {
     "name": "stdout",
     "output_type": "stream",
     "text": [
      "gene_symbol\n",
      "2.1     1\n",
      "4.1     2\n",
      "9.1     1\n",
      "10.1    2\n",
      "20.1    2\n",
      "dtype: object\n"
     ]
    },
    {
     "data": {
      "text/plain": [
       "gene_symbol\n",
       "2.1     intergenic\n",
       "4.1      antisense\n",
       "9.1     intergenic\n",
       "10.1     antisense\n",
       "20.1     antisense\n",
       "dtype: object"
      ]
     },
     "execution_count": 20,
     "metadata": {},
     "output_type": "execute_result"
    }
   ],
   "source": [
    "location_properties = metadata.set_index('EBZ_IDnew')[['length', 'sense', 'antisense', 'intergenic']]\n",
    "\n",
    "def classify_location(s):\n",
    "    if (s.intergenic > 0) and (s.sense == 0) and (s.antisense == 0):\n",
    "        return 'intergenic'\n",
    "    elif (s.antisense > 0) and (s.sense == 0) and (s.intergenic == 0):\n",
    "        return 'antisense'\n",
    "    elif (s.sense > 0) and (s.antisense == 0) and (s.intergenic == 0):\n",
    "        return 'sense'\n",
    "    else:\n",
    "        return 'mixed'\n",
    "\n",
    "sht_location = location_properties.apply(classify_location, axis=1)\n",
    "\n",
    "LCA_location_transform = {  'intergenic': '1',\n",
    "                            'antisense':  '2',\n",
    "                            'sense':      '3',\n",
    "                            'mixed':      '4' }\n",
    "LCA_location_dict = {   '1': 'intergenic',\n",
    "                        '2': 'antisense',\n",
    "                        '3': 'sense',\n",
    "                        '4': 'mixed'   }\n",
    "\n",
    "LCA_location = sht_location.replace(LCA_location_transform)\n",
    "LCA_location.index = LCA_location.index.astype(str)\n",
    "LCA_location.index.name = 'gene_symbol'\n",
    "print(LCA_location.head())\n",
    "\n",
    "sht_location.index = sht_location.index.astype(str)\n",
    "sht_location.index.name = 'gene_symbol'\n",
    "sht_location.head()"
   ]
  },
  {
   "cell_type": "markdown",
   "metadata": {},
   "source": [
    "## length"
   ]
  },
  {
   "cell_type": "code",
   "execution_count": 21,
   "metadata": {},
   "outputs": [
    {
     "data": {
      "text/plain": [
       "gene_symbol\n",
       "2.1     2\n",
       "4.1     2\n",
       "9.1     2\n",
       "10.1    1\n",
       "20.1    2\n",
       "Name: length, dtype: category\n",
       "Categories (3, object): [1 < 2 < 3]"
      ]
     },
     "execution_count": 21,
     "metadata": {},
     "output_type": "execute_result"
    }
   ],
   "source": [
    "LCA_length_dict = {'1':'[0, 20)',\n",
    "                   '2':'[20, 50)',\n",
    "                   '3':'50+'}\n",
    "sht_length = metadata.set_index('EBZ_IDnew')['length']\n",
    "sht_length.index.name = 'gene_symbol'\n",
    "sht_length.index = sht_length.index.astype(str)\n",
    "LCA_length = pd.cut(metadata.set_index('EBZ_IDnew')['length'], bins=[0, 20, 50, 999999], labels=['1','2','3'])\n",
    "LCA_length.index.name = 'gene_symbol'\n",
    "LCA_length.index = LCA_length.index.astype(str)\n",
    "LCA_length.head()"
   ]
  },
  {
   "cell_type": "code",
   "execution_count": null,
   "metadata": {},
   "outputs": [],
   "source": []
  },
  {
   "cell_type": "markdown",
   "metadata": {},
   "source": [
    "## tau"
   ]
  },
  {
   "cell_type": "code",
   "execution_count": 22,
   "metadata": {},
   "outputs": [],
   "source": [
    "def tau(input):\n",
    "    #implementation of tau\n",
    "  \n",
    "    #define constants\n",
    "    max_obs = max(input)\n",
    "    num = len(input)\n",
    "  \n",
    "    #calculate it\n",
    "    subtotal = (1 - input/max_obs)/(num-1)\n",
    "    return (sum(subtotal))"
   ]
  },
  {
   "cell_type": "code",
   "execution_count": 23,
   "metadata": {},
   "outputs": [],
   "source": [
    "adult_F_tissues =  ['FemaleAnal', 'FemaleBrain', 'FemaleCarcass',\n",
    "                 'FemaleCrop', 'FemaleEye', 'FemaleHead', 'FemaleHindgut',\n",
    "                 'FemaleMatedSpermatheca', 'FemaleMidgut', 'FemaleOvary',\n",
    "                 'FemaleSalivary', 'FemaleTubule', 'FemaleVirginSpermatheca',]\n",
    "adult_M_tissues = ['MaleAccessory',\n",
    "                 'MaleAnal', 'MaleBrain', 'MaleCarcass', 'MaleCrop', 'MaleEye',\n",
    "                 'MaleHead', 'MaleHindgut', 'MaleMidgut', 'MaleSalivary', 'MaleTestis',\n",
    "                 'MaleTubule']\n",
    "larval_tissues = ['LarvalCNS', 'LarvalCarcass',\n",
    "                  'LarvalFatBody', 'LarvalHindgut', 'LarvalMidgut', 'LarvalSalivary',\n",
    "                  'LarvalTrachea', 'LarvalTubule']"
   ]
  },
  {
   "cell_type": "code",
   "execution_count": 24,
   "metadata": {},
   "outputs": [],
   "source": [
    "embryo_stages = ['embryos, 0-2 hr', 'embryos, 2-4 hr', 'embryos, 4-6 hr',\n",
    "                 'embryos, 6-8 hr', 'embryos, 8-10 hr',\n",
    "                 'embryos, 10-12 hr', 'embryos, 12-14 hr', 'embryos, 14-16 hr',\n",
    "                 'embryos, 16-18 hr', 'embryos, 18-20 hr', \n",
    "                 'embryos, 20-22 hr', 'embryos, 22-24 hr']\n",
    "\n",
    "larval_stages = ['L1 stage larvae', 'L2 stage larvae',\n",
    "                 'L3 stage larvae, 12 hr post-molt',\n",
    "                 'L3 stage larvae, dark blue gut PS(1-2)',\n",
    "                 'L3 stage larvae, light blue gut PS(3-6)',\n",
    "                 'L3 stage larvae, clear gut PS(7-9)']\n",
    "\n",
    "pupal_stages =  ['WPP', 'pupae, 12 hr after WPP',\n",
    "                 'pupae, 24 hrs after WPP', 'pupae, 2 days after WPP', \n",
    "                 'pupae, 3 days after WPP', 'pupae, 4 days after WPP']\n",
    "\n",
    "dev_stages = embryo_stages + larval_stages + pupal_stages"
   ]
  },
  {
   "cell_type": "code",
   "execution_count": 25,
   "metadata": {},
   "outputs": [],
   "source": [
    "tau_adult_F = (supermultiTPM.groupby(level=['gene_symbol', 'gene_class']).sum()\n",
    "                .groupby(level='tissue', axis=1).mean())[adult_F_tissues].apply(tau, axis=1)\n",
    "\n",
    "tau_adult_M = (supermultiTPM.groupby(level=['gene_symbol', 'gene_class']).sum()\n",
    "                .groupby(level='tissue', axis=1).mean())[adult_M_tissues].apply(tau, axis=1)"
   ]
  },
  {
   "cell_type": "code",
   "execution_count": 26,
   "metadata": {},
   "outputs": [],
   "source": [
    "tau_embryo = (supermultiTPM.groupby(level=['gene_symbol', 'gene_class']).sum()\n",
    "                .groupby(level='tissue', axis=1).mean())[embryo_stages].apply(tau, axis=1)\n",
    "\n",
    "tau_larval = (supermultiTPM.groupby(level=['gene_symbol', 'gene_class']).sum()\n",
    "                .groupby(level='tissue', axis=1).mean())[larval_stages].apply(tau, axis=1)\n",
    "\n",
    "tau_pupal  = (supermultiTPM.groupby(level=['gene_symbol', 'gene_class']).sum()\n",
    "                .groupby(level='tissue', axis=1).mean())[pupal_stages].apply(tau, axis=1)\n",
    "\n",
    "tau_dev    = (supermultiTPM.groupby(level=['gene_symbol', 'gene_class']).sum()\n",
    "                .groupby(level='tissue', axis=1).mean())[dev_stages].apply(tau, axis=1)"
   ]
  },
  {
   "cell_type": "code",
   "execution_count": 27,
   "metadata": {},
   "outputs": [
    {
     "name": "stdout",
     "output_type": "stream",
     "text": [
      "(1056,)\n",
      "gene_symbol\n",
      "10.1      1\n",
      "100.1     1\n",
      "1001.1    1\n",
      "1004.1    1\n",
      "101.1     1\n",
      "dtype: object\n",
      "1    762\n",
      "2    294\n",
      "dtype: int64\n",
      "(1056,)\n",
      "gene_symbol\n",
      "10.1      1.000000\n",
      "100.1     0.855625\n",
      "1001.1    0.937958\n",
      "1004.1    1.000000\n",
      "101.1     0.949129\n",
      "dtype: float64\n"
     ]
    }
   ],
   "source": [
    "tau_thres = 0.8\n",
    "\n",
    "# tissue-specific (tau > 0.8) in EITHER M OR F\n",
    "LCA_tau = (\n",
    "    (tau_adult_M.filter_by({'gene_class':'novel_candidate'})\n",
    "    .pipe(lambda s: s > tau_thres)) \n",
    "    | \n",
    "    (tau_adult_F.filter_by({'gene_class':'novel_candidate'})\n",
    "    .pipe(lambda s: s > tau_thres))\n",
    ")\n",
    "\n",
    "print(LCA_tau.shape)\n",
    "LCA_tau = LCA_tau.replace(bool_transform)\n",
    "# LCA_tau:\n",
    "#     1: False -- not tissue specific in both M and F\n",
    "#     2: True -- tissue specific in either M or F\n",
    "print(LCA_tau.head())\n",
    "print(LCA_tau.value_counts())\n",
    "\n",
    "sht_tau = (\n",
    "    pd.concat([tau_adult_M.filter_by({'gene_class':'novel_candidate'}),\n",
    "               tau_adult_F.filter_by({'gene_class':'novel_candidate'})], axis=1)\n",
    "    .mean(axis=1)\n",
    ")\n",
    "\n",
    "print(sht_tau.shape)\n",
    "print(sht_tau.head())"
   ]
  },
  {
   "cell_type": "code",
   "execution_count": 28,
   "metadata": {},
   "outputs": [
    {
     "name": "stdout",
     "output_type": "stream",
     "text": [
      "(1056,)\n",
      "gene_symbol\n",
      "10.1      1\n",
      "100.1     2\n",
      "1001.1    1\n",
      "1004.1    2\n",
      "101.1     1\n",
      "dtype: object\n",
      "1    668\n",
      "2    388\n",
      "dtype: int64\n",
      "(1056,)\n",
      "gene_symbol\n",
      "10.1      0.942800\n",
      "100.1     0.655067\n",
      "1001.1    0.851240\n",
      "1004.1         NaN\n",
      "101.1     0.942865\n",
      "dtype: float64\n"
     ]
    }
   ],
   "source": [
    "LCA_dev_tau = (tau_dev.filter_by({'gene_class':'novel_candidate'})\n",
    "    .pipe(lambda s: s > tau_thres))\n",
    "\n",
    "print(LCA_dev_tau.shape)\n",
    "LCA_dev_tau = LCA_dev_tau.replace(bool_transform)\n",
    "# LCA_dev_tau:\n",
    "#     1: False -- not tissue specific in both M and F\n",
    "#     2: True -- tissue specific in either M or F\n",
    "print(LCA_dev_tau.head())\n",
    "print(LCA_dev_tau.value_counts())\n",
    "\n",
    "sht_dev_tau = (tau_dev.filter_by({'gene_class':'novel_candidate'}))\n",
    "\n",
    "print(sht_dev_tau.shape)\n",
    "print(sht_dev_tau.head())"
   ]
  },
  {
   "cell_type": "markdown",
   "metadata": {},
   "source": [
    "## table"
   ]
  },
  {
   "cell_type": "code",
   "execution_count": 29,
   "metadata": {},
   "outputs": [],
   "source": [
    "LCA_location.name = 'genomic'\n",
    "LCA_sigTPM.name = 'sigTPM'\n",
    "LCA_tau.name = 'tau'\n",
    "LCA_dev_tau.name = 'dev_tau'\n",
    "LCA_phastCons.name = 'phastCons'\n",
    "LCA_phyloP.name = 'phyloP'\n",
    "LCA_length.name = 'length'"
   ]
  },
  {
   "cell_type": "code",
   "execution_count": 30,
   "metadata": {},
   "outputs": [
    {
     "data": {
      "text/plain": [
       "(993, 9)"
      ]
     },
     "execution_count": 30,
     "metadata": {},
     "output_type": "execute_result"
    }
   ],
   "source": [
    "LCAtable_index = pd.DataFrame([LCA_furthest, LCA_location, LCA_phyloP, LCA_phastCons, LCA_length, LCA_monophyletic, LCA_sigTPM, LCA_tau, LCA_dev_tau]\n",
    "                  ).T\n",
    "LCAtable_index = LCAtable_index.loc[metadata.EBZ_IDnew.astype(str)]\n",
    "LCAtable = LCAtable_index.fillna('NA').reset_index().drop('index',axis=1)\n",
    "LCAtable.shape"
   ]
  },
  {
   "cell_type": "code",
   "execution_count": 31,
   "metadata": {},
   "outputs": [
    {
     "data": {
      "text/plain": [
       "(993, 9)"
      ]
     },
     "execution_count": 31,
     "metadata": {},
     "output_type": "execute_result"
    }
   ],
   "source": [
    "sht_location.name = 'genomic'\n",
    "sht_sigTPM.name = 'sigTPM'\n",
    "sht_tau.name = 'tau'\n",
    "sht_dev_tau.name = 'dev_tau'\n",
    "sht_phastCons.name = 'phastCons'\n",
    "sht_phyloP.name = 'phyloP'\n",
    "sht_length.name = 'length'\n",
    "\n",
    "sht_table = pd.DataFrame([sht_furthest, sht_location, sht_phyloP, sht_phastCons, sht_length, sht_monophyletic, sht_sigTPM, sht_tau, sht_dev_tau]\n",
    "                  ).T#.dropna()\n",
    "sht_table = sht_table.loc[metadata.EBZ_IDnew.astype(str)]\n",
    "sht_table.shape"
   ]
  },
  {
   "cell_type": "code",
   "execution_count": 45,
   "metadata": {},
   "outputs": [],
   "source": [
    "if False:\n",
    "    LCAtable.to_csv('../addlsourcedata/LCA_factors_coded.csv')\n",
    "    sht_table.to_csv('../addlsourcedata/LCA_factors_original.csv')\n",
    "    LCAtable_index.to_pickle('../addlsourcedata/LCA_factors_indexed.pd.pic.gz')"
   ]
  },
  {
   "cell_type": "code",
   "execution_count": null,
   "metadata": {},
   "outputs": [],
   "source": []
  }
 ],
 "metadata": {
  "kernelspec": {
   "display_name": "Python 3",
   "language": "python",
   "name": "python3"
  },
  "language_info": {
   "codemirror_mode": {
    "name": "ipython",
    "version": 3
   },
   "file_extension": ".py",
   "mimetype": "text/x-python",
   "name": "python",
   "nbconvert_exporter": "python",
   "pygments_lexer": "ipython3",
   "version": "3.6.13"
  },
  "notify_time": "5",
  "toc": {
   "nav_menu": {},
   "number_sections": true,
   "sideBar": true,
   "skip_h1_title": false,
   "toc_cell": false,
   "toc_position": {
    "height": "899px",
    "left": "0px",
    "right": "1154px",
    "top": "111px",
    "width": "212px"
   },
   "toc_section_display": "block",
   "toc_window_display": true
  }
 },
 "nbformat": 4,
 "nbformat_minor": 2
}
